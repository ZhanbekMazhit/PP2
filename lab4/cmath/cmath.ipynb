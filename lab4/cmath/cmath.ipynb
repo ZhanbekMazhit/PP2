{
 "cells": [
  {
   "cell_type": "code",
   "execution_count": null,
   "metadata": {},
   "outputs": [
    {
     "name": "stdout",
     "output_type": "stream",
     "text": [
      "The current day:  2025-02-19\n",
      "Five days ago:  2025-02-14\n"
     ]
    }
   ],
   "source": [
    "#ex1\n",
    "from datetime import date,  timedelta, datetime\n",
    "\n",
    "current = date.today()\n",
    "Five_days_ago = date.today() - timedelta(5)\n",
    "\n",
    "print(\"The current day: \", current)\n",
    "print(\"Five days ago: \", Five_days_ago)"
   ]
  },
  {
   "cell_type": "code",
   "execution_count": null,
   "metadata": {},
   "outputs": [],
   "source": [
    "#ex2\n",
    "from datetime import date,  timedelta, datetime\n",
    "\n",
    "today = date.today()\n",
    "tomorrow = date.today() + timedelta(1)\n",
    "yesterday = date.today() - timedelta(1)\n",
    "\n",
    "print(\"Yesterday: \", yesterday)\n",
    "print(\"Today: \", today)\n",
    "print(\"Tomorrow: \", tomorrow)"
   ]
  },
  {
   "cell_type": "code",
   "execution_count": 3,
   "metadata": {},
   "outputs": [
    {
     "name": "stdout",
     "output_type": "stream",
     "text": [
      "2025-02-19, 16:32:12\n"
     ]
    }
   ],
   "source": [
    "#ex3\n",
    "from datetime import date,  timedelta, datetime\n",
    "\n",
    "a = datetime.now()\n",
    "b = a.strftime(\"%Y-%m-%d, %H:%M:%S\")\n",
    "print(b)"
   ]
  },
  {
   "cell_type": "code",
   "execution_count": null,
   "metadata": {},
   "outputs": [],
   "source": [
    "#ex4\n",
    "from datetime import date,timedelta, datetime\n",
    "yesterday = datetime.now()-timedelta(1)\n",
    "tomorrow = datetime.now()+timedelta(1)\n",
    "\n",
    "\n",
    "yesterday = datetime.timestamp(yesterday)\n",
    "tomorrow = datetime.timestamp(tomorrow)\n",
    "\n",
    "print(tomorrow-yesterday)"
   ]
  }
 ],
 "metadata": {
  "kernelspec": {
   "display_name": "venv",
   "language": "python",
   "name": "python3"
  },
  "language_info": {
   "codemirror_mode": {
    "name": "ipython",
    "version": 3
   },
   "file_extension": ".py",
   "mimetype": "text/x-python",
   "name": "python",
   "nbconvert_exporter": "python",
   "pygments_lexer": "ipython3",
   "version": "3.13.1"
  }
 },
 "nbformat": 4,
 "nbformat_minor": 2
}
