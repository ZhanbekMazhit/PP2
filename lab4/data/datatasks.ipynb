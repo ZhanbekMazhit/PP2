{
 "cells": [
  {
   "cell_type": "code",
   "execution_count": null,
   "metadata": {},
   "outputs": [],
   "source": [
    "#ex1\n",
    "import math\n",
    "\n",
    "Degree = int(input(\"Input degree: \"))\n",
    "Radian = (math.pi * Degree)/180\n",
    "print(\"Output radian: \",'%.6f' % Radian)"
   ]
  },
  {
   "cell_type": "code",
   "execution_count": null,
   "metadata": {},
   "outputs": [],
   "source": [
    "#ex2\n",
    "import math\n",
    "\n",
    "h = int(input(\"Height: \"))\n",
    "a = int(input(\"Base, first value: \"))\n",
    "b = int(input(\"Base, second value: \"))\n",
    "\n",
    "print(\"Area of trapezoid: \", h*(a+b)*0.5)"
   ]
  },
  {
   "cell_type": "code",
   "execution_count": null,
   "metadata": {},
   "outputs": [],
   "source": [
    "#ex3\n",
    "import math\n",
    "\n",
    "n=int(input(\"Input number of sides:\"))\n",
    "a=int(input(\"Input the length of a side:\"))\n",
    "area = (n * a**2) / (4 * math.tan(math.pi / n))\n",
    "print(\"Area:\",area)"
   ]
  },
  {
   "cell_type": "code",
   "execution_count": null,
   "metadata": {},
   "outputs": [],
   "source": [
    "#ex4\n",
    "import math\n",
    "\n",
    "b=int(input(\"a:\"))\n",
    "a=int(input(\"b:\"))\n",
    "print(float(a*b))"
   ]
  }
 ],
 "metadata": {
  "kernelspec": {
   "display_name": "venv",
   "language": "python",
   "name": "python3"
  },
  "language_info": {
   "name": "python",
   "version": "3.13.1"
  }
 },
 "nbformat": 4,
 "nbformat_minor": 2
}
